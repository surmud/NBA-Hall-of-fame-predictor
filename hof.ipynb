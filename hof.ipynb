{
 "metadata": {
  "language_info": {
   "codemirror_mode": {
    "name": "ipython",
    "version": 3
   },
   "file_extension": ".py",
   "mimetype": "text/x-python",
   "name": "python",
   "nbconvert_exporter": "python",
   "pygments_lexer": "ipython3",
   "version": "3.9.1"
  },
  "orig_nbformat": 2,
  "kernelspec": {
   "name": "python391jvsc74a57bd0ac2eaa0ea0ebeafcc7822e65e46aa9d4f966f30b695406963e145ea4a91cd4fc",
   "display_name": "Python 3.9.1 64-bit ('python@3.9')"
  },
  "metadata": {
   "interpreter": {
    "hash": "ac2eaa0ea0ebeafcc7822e65e46aa9d4f966f30b695406963e145ea4a91cd4fc"
   }
  }
 },
 "nbformat": 4,
 "nbformat_minor": 2,
 "cells": [
  {
   "cell_type": "code",
   "execution_count": 79,
   "metadata": {},
   "outputs": [
    {
     "output_type": "execute_result",
     "data": {
      "text/plain": [
       "              Player Pos  Age   Tm   G  GS    MP   FG   FGA    FG%   3P  3PA  \\\n",
       "0   Precious Achiuwa  PF   21  MIA  28   2  14.6  2.6   4.4  0.590  0.0  0.0   \n",
       "1       Jaylen Adams  PG   24  MIL   6   0   2.8  0.2   1.3  0.125  0.0  0.3   \n",
       "2       Steven Adams   C   27  NOP  27  27  28.1  3.5   5.8  0.603  0.0  0.0   \n",
       "3        Bam Adebayo   C   23  MIA  26  26  33.6  7.4  12.9  0.573  0.1  0.2   \n",
       "4  LaMarcus Aldridge   C   35  SAS  18  18  26.7  5.9  12.5  0.476  1.3  3.7   \n",
       "\n",
       "     3P%   2P   2PA    2P%   eFG%   FT  FTA    FT%  ORB  DRB  TRB  AST  STL  \\\n",
       "0  0.000  2.6   4.4  0.590  0.590  1.3  2.4  0.561  1.3  2.7  4.0  0.6  0.4   \n",
       "1  0.000  0.2   1.0  0.167  0.125  0.0  0.0  0.000  0.0  0.5  0.5  0.3  0.0   \n",
       "2  0.000  3.5   5.7  0.606  0.603  1.1  2.3  0.468  4.3  4.6  8.9  2.1  1.0   \n",
       "3  0.400  7.3  12.7  0.576  0.576  5.1  6.0  0.841  1.9  7.3  9.2  5.3  1.0   \n",
       "4  0.358  4.6   8.8  0.525  0.529  0.9  1.2  0.762  0.8  3.5  4.3  1.9  0.4   \n",
       "\n",
       "   BLK  TOV   PF   PTS  \n",
       "0  0.5  1.0  1.9   6.5  \n",
       "1  0.0  0.0  0.2   0.3  \n",
       "2  0.6  1.7  1.9   8.0  \n",
       "3  1.0  3.0  2.6  19.9  \n",
       "4  0.9  0.9  1.5  14.1  "
      ],
      "text/html": "<div>\n<style scoped>\n    .dataframe tbody tr th:only-of-type {\n        vertical-align: middle;\n    }\n\n    .dataframe tbody tr th {\n        vertical-align: top;\n    }\n\n    .dataframe thead th {\n        text-align: right;\n    }\n</style>\n<table border=\"1\" class=\"dataframe\">\n  <thead>\n    <tr style=\"text-align: right;\">\n      <th></th>\n      <th>Player</th>\n      <th>Pos</th>\n      <th>Age</th>\n      <th>Tm</th>\n      <th>G</th>\n      <th>GS</th>\n      <th>MP</th>\n      <th>FG</th>\n      <th>FGA</th>\n      <th>FG%</th>\n      <th>3P</th>\n      <th>3PA</th>\n      <th>3P%</th>\n      <th>2P</th>\n      <th>2PA</th>\n      <th>2P%</th>\n      <th>eFG%</th>\n      <th>FT</th>\n      <th>FTA</th>\n      <th>FT%</th>\n      <th>ORB</th>\n      <th>DRB</th>\n      <th>TRB</th>\n      <th>AST</th>\n      <th>STL</th>\n      <th>BLK</th>\n      <th>TOV</th>\n      <th>PF</th>\n      <th>PTS</th>\n    </tr>\n  </thead>\n  <tbody>\n    <tr>\n      <th>0</th>\n      <td>Precious Achiuwa</td>\n      <td>PF</td>\n      <td>21</td>\n      <td>MIA</td>\n      <td>28</td>\n      <td>2</td>\n      <td>14.6</td>\n      <td>2.6</td>\n      <td>4.4</td>\n      <td>0.590</td>\n      <td>0.0</td>\n      <td>0.0</td>\n      <td>0.000</td>\n      <td>2.6</td>\n      <td>4.4</td>\n      <td>0.590</td>\n      <td>0.590</td>\n      <td>1.3</td>\n      <td>2.4</td>\n      <td>0.561</td>\n      <td>1.3</td>\n      <td>2.7</td>\n      <td>4.0</td>\n      <td>0.6</td>\n      <td>0.4</td>\n      <td>0.5</td>\n      <td>1.0</td>\n      <td>1.9</td>\n      <td>6.5</td>\n    </tr>\n    <tr>\n      <th>1</th>\n      <td>Jaylen Adams</td>\n      <td>PG</td>\n      <td>24</td>\n      <td>MIL</td>\n      <td>6</td>\n      <td>0</td>\n      <td>2.8</td>\n      <td>0.2</td>\n      <td>1.3</td>\n      <td>0.125</td>\n      <td>0.0</td>\n      <td>0.3</td>\n      <td>0.000</td>\n      <td>0.2</td>\n      <td>1.0</td>\n      <td>0.167</td>\n      <td>0.125</td>\n      <td>0.0</td>\n      <td>0.0</td>\n      <td>0.000</td>\n      <td>0.0</td>\n      <td>0.5</td>\n      <td>0.5</td>\n      <td>0.3</td>\n      <td>0.0</td>\n      <td>0.0</td>\n      <td>0.0</td>\n      <td>0.2</td>\n      <td>0.3</td>\n    </tr>\n    <tr>\n      <th>2</th>\n      <td>Steven Adams</td>\n      <td>C</td>\n      <td>27</td>\n      <td>NOP</td>\n      <td>27</td>\n      <td>27</td>\n      <td>28.1</td>\n      <td>3.5</td>\n      <td>5.8</td>\n      <td>0.603</td>\n      <td>0.0</td>\n      <td>0.0</td>\n      <td>0.000</td>\n      <td>3.5</td>\n      <td>5.7</td>\n      <td>0.606</td>\n      <td>0.603</td>\n      <td>1.1</td>\n      <td>2.3</td>\n      <td>0.468</td>\n      <td>4.3</td>\n      <td>4.6</td>\n      <td>8.9</td>\n      <td>2.1</td>\n      <td>1.0</td>\n      <td>0.6</td>\n      <td>1.7</td>\n      <td>1.9</td>\n      <td>8.0</td>\n    </tr>\n    <tr>\n      <th>3</th>\n      <td>Bam Adebayo</td>\n      <td>C</td>\n      <td>23</td>\n      <td>MIA</td>\n      <td>26</td>\n      <td>26</td>\n      <td>33.6</td>\n      <td>7.4</td>\n      <td>12.9</td>\n      <td>0.573</td>\n      <td>0.1</td>\n      <td>0.2</td>\n      <td>0.400</td>\n      <td>7.3</td>\n      <td>12.7</td>\n      <td>0.576</td>\n      <td>0.576</td>\n      <td>5.1</td>\n      <td>6.0</td>\n      <td>0.841</td>\n      <td>1.9</td>\n      <td>7.3</td>\n      <td>9.2</td>\n      <td>5.3</td>\n      <td>1.0</td>\n      <td>1.0</td>\n      <td>3.0</td>\n      <td>2.6</td>\n      <td>19.9</td>\n    </tr>\n    <tr>\n      <th>4</th>\n      <td>LaMarcus Aldridge</td>\n      <td>C</td>\n      <td>35</td>\n      <td>SAS</td>\n      <td>18</td>\n      <td>18</td>\n      <td>26.7</td>\n      <td>5.9</td>\n      <td>12.5</td>\n      <td>0.476</td>\n      <td>1.3</td>\n      <td>3.7</td>\n      <td>0.358</td>\n      <td>4.6</td>\n      <td>8.8</td>\n      <td>0.525</td>\n      <td>0.529</td>\n      <td>0.9</td>\n      <td>1.2</td>\n      <td>0.762</td>\n      <td>0.8</td>\n      <td>3.5</td>\n      <td>4.3</td>\n      <td>1.9</td>\n      <td>0.4</td>\n      <td>0.9</td>\n      <td>0.9</td>\n      <td>1.5</td>\n      <td>14.1</td>\n    </tr>\n  </tbody>\n</table>\n</div>"
     },
     "metadata": {},
     "execution_count": 79
    }
   ],
   "source": [
    "from bs4 import BeautifulSoup as bs\n",
    "import requests\n",
    "import pandas as pd\n",
    "import numpy as np\n",
    "import matplotlib.pyplot as plt\n",
    "\n",
    "pd.set_option(\"display.max_rows\", None, \"display.max_columns\", None)\n",
    "nba2021_df = pd.read_csv('nba2021_per_game.csv')\n",
    "\n",
    "nba2021_df.head()"
   ]
  },
  {
   "cell_type": "code",
   "execution_count": 80,
   "metadata": {},
   "outputs": [
    {
     "output_type": "stream",
     "name": "stdout",
     "text": [
      "       Player Pos  Age   Tm   G  GS    MP   FG  FGA    FG%   3P  3PA    3P%  \\\n265  Alex Len   C   27  TOT  20   6  14.6  2.4  3.8  0.627  0.3  1.0  0.316   \n\n      2P  2PA    2P%   eFG%   FT  FTA    FT%  ORB  DRB  TRB  AST  STL  BLK  \\\n265  2.1  2.8  0.732  0.667  1.0  1.7  0.588  0.8  2.8  3.5  1.1  0.4  1.1   \n\n     TOV   PF  PTS  \n265  1.2  1.9  6.0  \n               Player Pos  Age   Tm  G  GS    MP   FG  FGA    FG%   3P  3PA  \\\n425  Dennis Smith Jr.  PG   23  TOT  7   0  12.1  1.6  4.7  0.333  0.3  1.7   \n\n       3P%   2P  2PA    2P%   eFG%   FT  FTA  FT%  ORB  DRB  TRB  AST  STL  \\\n425  0.167  1.3  3.0  0.429  0.364  1.1  1.4  0.8  0.3  0.9  1.1  1.6  0.4   \n\n     BLK  TOV   PF  PTS  \n425  0.1  0.7  0.7  4.6  \n           Player Pos  Age   Tm   G  GS    MP   FG   FGA    FG%   3P  3PA  \\\n403  Derrick Rose  PG   32  TOT  20   0  22.3  5.0  11.7  0.427  0.8  2.4   \n\n       3P%   2P  2PA    2P%   eFG%   FT  FTA    FT%  ORB  DRB  TRB  AST  STL  \\\n403  0.333  4.2  9.3  0.452  0.462  2.7  3.2  0.841  0.4  1.8  2.2  4.0  1.2   \n\n     BLK  TOV   PF   PTS  \n403  0.4  1.9  1.1  13.5  \n           Player Pos  Age   Tm   G  GS    MP   FG   FGA    FG%   3P  3PA  \\\n181  James Harden  SG   31  TOT  24  24  37.6  7.6  15.8  0.482  3.0  7.9   \n\n       3P%   2P  2PA    2P%   eFG%   FT  FTA    FT%  ORB  DRB  TRB   AST  STL  \\\n181  0.384  4.6  7.9  0.579  0.578  6.2  6.9  0.897  0.8  6.5  7.3  11.3  1.0   \n\n     BLK  TOV   PF   PTS  \n181  0.8  4.3  2.3  24.5  \n          Player Pos  Age   Tm   G  GS    MP   FG  FGA    FG%   3P  3PA   3P%  \\\n8  Jarrett Allen   C   22  TOT  28  10  26.2  4.4  6.8  0.642  0.0  0.1  0.25   \n\n    2P  2PA    2P%   eFG%   FT  FTA    FT%  ORB  DRB  TRB  AST  STL  BLK  TOV  \\\n8  4.3  6.6  0.651  0.645  3.6  4.7  0.758  2.9  6.1  9.0  1.6  0.5  1.6  1.5   \n\n    PF   PTS  \n8  1.6  12.3  \n             Player    Pos  Age   Tm   G  GS   MP   FG  FGA  FG%   3P  3PA  \\\n255  Rodions Kurucs  SF-PF   22  TOT  14   0  5.2  0.4  1.4  0.3  0.2  1.0   \n\n       3P%   2P  2PA  2P%   eFG%   FT  FTA  FT%  ORB  DRB  TRB  AST  STL  BLK  \\\n255  0.214  0.2  0.4  0.5  0.375  0.1  0.1  0.5  0.1  0.7  0.9  0.3  0.4  0.1   \n\n     TOV   PF  PTS  \n255  0.5  0.6  1.1  \n             Player Pos  Age   Tm   G  GS    MP   FG  FGA    FG%   3P  3PA  \\\n382  Taurean Prince  PF   26  TOT  27  10  21.9  2.8  7.2  0.392  1.4  3.5   \n\n     3P%   2P  2PA    2P%  eFG%   FT  FTA    FT%  ORB  DRB  TRB  AST  STL  \\\n382  0.4  1.4  3.7  0.384  0.49  1.7  2.0  0.849  0.4  3.2  3.6  1.7  0.7   \n\n     BLK  TOV   PF  PTS  \n382  0.7  1.1  1.9  8.7  \n             Player Pos  Age   Tm   G  GS    MP   FG   FGA    FG%   3P  3PA  \\\n354  Victor Oladipo  SG   28  TOT  20  20  32.0  7.0  17.5  0.401  2.4  7.3   \n\n       3P%   2P   2PA    2P%  eFG%   FT  FTA   FT%  ORB  DRB  TRB  AST  STL  \\\n354  0.329  4.6  10.2  0.453  0.47  2.7  3.7  0.74  0.2  5.0  5.2  4.6  1.4   \n\n     BLK  TOV   PF   PTS  \n354  0.4  2.2  2.4  19.1  \n"
     ]
    }
   ],
   "source": [
    "players = nba2021_df.groupby('Player')\n",
    "\n",
    "mult_teams = []\n",
    "for player, player_df in players:\n",
    "    if len(player_df.index) > 1:\n",
    "        # if a player played for multiple teams, we only want to keep their total stats\n",
    "        mult_teams.append(player)\n",
    "\n",
    "for idx, row in nba2021_df.iterrows():\n",
    "    if row.Player in mult_teams and row.Tm != 'TOT':\n",
    "        nba2021_df = nba2021_df.drop([idx])\n",
    "\n",
    "for player in mult_teams:\n",
    "    # each print should show one row, where the player team is TOT (total)\n",
    "    print(nba2021_df[nba2021_df.Player == player])"
   ]
  },
  {
   "cell_type": "code",
   "execution_count": 92,
   "metadata": {},
   "outputs": [],
   "source": [
    "# okay so now that we have a fully unique datatset of current players, lets study HOF players\n",
    "\n",
    "URL = 'https://www.basketball-reference.com/awards/hof.html'\n",
    "\n",
    "req = requests.get(URL)\n",
    "soup = bs(req.content, 'html.parser')\n",
    "table = soup.find('table').prettify()\n",
    "\n",
    "hof_df = pd.read_html(table, flavor = 'bs4')[0]"
   ]
  },
  {
   "cell_type": "code",
   "execution_count": 93,
   "metadata": {},
   "outputs": [
    {
     "output_type": "execute_result",
     "data": {
      "text/plain": [
       "    Year                                               Name Category     G  \\\n",
       "1   2020                        Kobe Bryant  Player  /  Oly   Player  1346   \n",
       "2   2020                             Tamika Catchings  WNBA   Player   NaN   \n",
       "3   2020  Tim Duncan  Player  /  Coach  /  Oly  /  CBB  ...   Player  1392   \n",
       "4   2020                      Kevin Garnett  Player  /  Oly   Player  1462   \n",
       "14  2019                       Carl Braun  Player  /  Coach   Player   788   \n",
       "\n",
       "     PTS   TRB  AST  STL  BLK   FG%   3P%   FT%     WS WS/48  \\\n",
       "1   25.0   5.2  4.7  1.4  0.5  .447  .329  .837  172.7  .170   \n",
       "2    NaN   NaN  NaN  NaN  NaN   NaN   NaN   NaN    NaN   NaN   \n",
       "3   19.0  10.8  3.0  0.7  2.2  .506  .179  .696  206.4  .209   \n",
       "4   17.8  10.0  3.7  1.3  1.4  .497  .275  .789  191.4  .182   \n",
       "14  13.5   3.4  3.7  NaN  NaN  .383   NaN  .804   64.3  .119   \n",
       "\n",
       "    Unnamed: 14_level_1    G    W    L W/L%  \n",
       "1                   NaN  NaN  NaN  NaN  NaN  \n",
       "2                   NaN  NaN  NaN  NaN  NaN  \n",
       "3                   NaN  NaN  NaN  NaN  NaN  \n",
       "4                   NaN  NaN  NaN  NaN  NaN  \n",
       "14                  NaN  NaN  NaN  NaN  NaN  "
      ],
      "text/html": "<div>\n<style scoped>\n    .dataframe tbody tr th:only-of-type {\n        vertical-align: middle;\n    }\n\n    .dataframe tbody tr th {\n        vertical-align: top;\n    }\n\n    .dataframe thead th {\n        text-align: right;\n    }\n</style>\n<table border=\"1\" class=\"dataframe\">\n  <thead>\n    <tr style=\"text-align: right;\">\n      <th></th>\n      <th>Year</th>\n      <th>Name</th>\n      <th>Category</th>\n      <th>G</th>\n      <th>PTS</th>\n      <th>TRB</th>\n      <th>AST</th>\n      <th>STL</th>\n      <th>BLK</th>\n      <th>FG%</th>\n      <th>3P%</th>\n      <th>FT%</th>\n      <th>WS</th>\n      <th>WS/48</th>\n      <th>Unnamed: 14_level_1</th>\n      <th>G</th>\n      <th>W</th>\n      <th>L</th>\n      <th>W/L%</th>\n    </tr>\n  </thead>\n  <tbody>\n    <tr>\n      <th>1</th>\n      <td>2020</td>\n      <td>Kobe Bryant  Player  /  Oly</td>\n      <td>Player</td>\n      <td>1346</td>\n      <td>25.0</td>\n      <td>5.2</td>\n      <td>4.7</td>\n      <td>1.4</td>\n      <td>0.5</td>\n      <td>.447</td>\n      <td>.329</td>\n      <td>.837</td>\n      <td>172.7</td>\n      <td>.170</td>\n      <td>NaN</td>\n      <td>NaN</td>\n      <td>NaN</td>\n      <td>NaN</td>\n      <td>NaN</td>\n    </tr>\n    <tr>\n      <th>2</th>\n      <td>2020</td>\n      <td>Tamika Catchings  WNBA</td>\n      <td>Player</td>\n      <td>NaN</td>\n      <td>NaN</td>\n      <td>NaN</td>\n      <td>NaN</td>\n      <td>NaN</td>\n      <td>NaN</td>\n      <td>NaN</td>\n      <td>NaN</td>\n      <td>NaN</td>\n      <td>NaN</td>\n      <td>NaN</td>\n      <td>NaN</td>\n      <td>NaN</td>\n      <td>NaN</td>\n      <td>NaN</td>\n      <td>NaN</td>\n    </tr>\n    <tr>\n      <th>3</th>\n      <td>2020</td>\n      <td>Tim Duncan  Player  /  Coach  /  Oly  /  CBB  ...</td>\n      <td>Player</td>\n      <td>1392</td>\n      <td>19.0</td>\n      <td>10.8</td>\n      <td>3.0</td>\n      <td>0.7</td>\n      <td>2.2</td>\n      <td>.506</td>\n      <td>.179</td>\n      <td>.696</td>\n      <td>206.4</td>\n      <td>.209</td>\n      <td>NaN</td>\n      <td>NaN</td>\n      <td>NaN</td>\n      <td>NaN</td>\n      <td>NaN</td>\n    </tr>\n    <tr>\n      <th>4</th>\n      <td>2020</td>\n      <td>Kevin Garnett  Player  /  Oly</td>\n      <td>Player</td>\n      <td>1462</td>\n      <td>17.8</td>\n      <td>10.0</td>\n      <td>3.7</td>\n      <td>1.3</td>\n      <td>1.4</td>\n      <td>.497</td>\n      <td>.275</td>\n      <td>.789</td>\n      <td>191.4</td>\n      <td>.182</td>\n      <td>NaN</td>\n      <td>NaN</td>\n      <td>NaN</td>\n      <td>NaN</td>\n      <td>NaN</td>\n    </tr>\n    <tr>\n      <th>14</th>\n      <td>2019</td>\n      <td>Carl Braun  Player  /  Coach</td>\n      <td>Player</td>\n      <td>788</td>\n      <td>13.5</td>\n      <td>3.4</td>\n      <td>3.7</td>\n      <td>NaN</td>\n      <td>NaN</td>\n      <td>.383</td>\n      <td>NaN</td>\n      <td>.804</td>\n      <td>64.3</td>\n      <td>.119</td>\n      <td>NaN</td>\n      <td>NaN</td>\n      <td>NaN</td>\n      <td>NaN</td>\n      <td>NaN</td>\n    </tr>\n  </tbody>\n</table>\n</div>"
     },
     "metadata": {},
     "execution_count": 93
    }
   ],
   "source": [
    "hof_df.columns = hof_df.columns.droplevel()\n",
    "for idx, row in hof_df.iterrows():\n",
    "   if row.Category != 'Player':\n",
    "       hof_df = hof_df.drop([idx])\n",
    "\n",
    "hof_df.head()"
   ]
  },
  {
   "cell_type": "code",
   "execution_count": 94,
   "metadata": {},
   "outputs": [],
   "source": [
    "hof_df = hof_df.drop(['Unnamed: 14_level_1'],axis=1)"
   ]
  },
  {
   "cell_type": "code",
   "execution_count": 96,
   "metadata": {},
   "outputs": [
    {
     "output_type": "execute_result",
     "data": {
      "text/plain": [
       "    Year              Name Category     G   PTS   TRB  AST  STL  BLK   FG%  \\\n",
       "1   2020       Kobe Bryant   Player  1346  25.0   5.2  4.7  1.4  0.5  .447   \n",
       "2   2020  Tamika Catchings   Player   NaN   NaN   NaN  NaN  NaN  NaN   NaN   \n",
       "3   2020        Tim Duncan   Player  1392  19.0  10.8  3.0  0.7  2.2  .506   \n",
       "4   2020     Kevin Garnett   Player  1462  17.8  10.0  3.7  1.3  1.4  .497   \n",
       "14  2019        Carl Braun   Player   788  13.5   3.4  3.7  NaN  NaN  .383   \n",
       "\n",
       "     3P%   FT%     WS WS/48    G    W    L W/L%  \n",
       "1   .329  .837  172.7  .170  NaN  NaN  NaN  NaN  \n",
       "2    NaN   NaN    NaN   NaN  NaN  NaN  NaN  NaN  \n",
       "3   .179  .696  206.4  .209  NaN  NaN  NaN  NaN  \n",
       "4   .275  .789  191.4  .182  NaN  NaN  NaN  NaN  \n",
       "14   NaN  .804   64.3  .119  NaN  NaN  NaN  NaN  "
      ],
      "text/html": "<div>\n<style scoped>\n    .dataframe tbody tr th:only-of-type {\n        vertical-align: middle;\n    }\n\n    .dataframe tbody tr th {\n        vertical-align: top;\n    }\n\n    .dataframe thead th {\n        text-align: right;\n    }\n</style>\n<table border=\"1\" class=\"dataframe\">\n  <thead>\n    <tr style=\"text-align: right;\">\n      <th></th>\n      <th>Year</th>\n      <th>Name</th>\n      <th>Category</th>\n      <th>G</th>\n      <th>PTS</th>\n      <th>TRB</th>\n      <th>AST</th>\n      <th>STL</th>\n      <th>BLK</th>\n      <th>FG%</th>\n      <th>3P%</th>\n      <th>FT%</th>\n      <th>WS</th>\n      <th>WS/48</th>\n      <th>G</th>\n      <th>W</th>\n      <th>L</th>\n      <th>W/L%</th>\n    </tr>\n  </thead>\n  <tbody>\n    <tr>\n      <th>1</th>\n      <td>2020</td>\n      <td>Kobe Bryant</td>\n      <td>Player</td>\n      <td>1346</td>\n      <td>25.0</td>\n      <td>5.2</td>\n      <td>4.7</td>\n      <td>1.4</td>\n      <td>0.5</td>\n      <td>.447</td>\n      <td>.329</td>\n      <td>.837</td>\n      <td>172.7</td>\n      <td>.170</td>\n      <td>NaN</td>\n      <td>NaN</td>\n      <td>NaN</td>\n      <td>NaN</td>\n    </tr>\n    <tr>\n      <th>2</th>\n      <td>2020</td>\n      <td>Tamika Catchings</td>\n      <td>Player</td>\n      <td>NaN</td>\n      <td>NaN</td>\n      <td>NaN</td>\n      <td>NaN</td>\n      <td>NaN</td>\n      <td>NaN</td>\n      <td>NaN</td>\n      <td>NaN</td>\n      <td>NaN</td>\n      <td>NaN</td>\n      <td>NaN</td>\n      <td>NaN</td>\n      <td>NaN</td>\n      <td>NaN</td>\n      <td>NaN</td>\n    </tr>\n    <tr>\n      <th>3</th>\n      <td>2020</td>\n      <td>Tim Duncan</td>\n      <td>Player</td>\n      <td>1392</td>\n      <td>19.0</td>\n      <td>10.8</td>\n      <td>3.0</td>\n      <td>0.7</td>\n      <td>2.2</td>\n      <td>.506</td>\n      <td>.179</td>\n      <td>.696</td>\n      <td>206.4</td>\n      <td>.209</td>\n      <td>NaN</td>\n      <td>NaN</td>\n      <td>NaN</td>\n      <td>NaN</td>\n    </tr>\n    <tr>\n      <th>4</th>\n      <td>2020</td>\n      <td>Kevin Garnett</td>\n      <td>Player</td>\n      <td>1462</td>\n      <td>17.8</td>\n      <td>10.0</td>\n      <td>3.7</td>\n      <td>1.3</td>\n      <td>1.4</td>\n      <td>.497</td>\n      <td>.275</td>\n      <td>.789</td>\n      <td>191.4</td>\n      <td>.182</td>\n      <td>NaN</td>\n      <td>NaN</td>\n      <td>NaN</td>\n      <td>NaN</td>\n    </tr>\n    <tr>\n      <th>14</th>\n      <td>2019</td>\n      <td>Carl Braun</td>\n      <td>Player</td>\n      <td>788</td>\n      <td>13.5</td>\n      <td>3.4</td>\n      <td>3.7</td>\n      <td>NaN</td>\n      <td>NaN</td>\n      <td>.383</td>\n      <td>NaN</td>\n      <td>.804</td>\n      <td>64.3</td>\n      <td>.119</td>\n      <td>NaN</td>\n      <td>NaN</td>\n      <td>NaN</td>\n      <td>NaN</td>\n    </tr>\n  </tbody>\n</table>\n</div>"
     },
     "metadata": {},
     "execution_count": 96
    }
   ],
   "source": [
    "# the Name category has some extra stuff, lets drop it to only <firstName lastName> \n",
    "\n",
    "hof_df['Name'] = hof_df['Name'].apply(lambda x: x.split()[0] + ' ' + x.split()[1])\n",
    "\n",
    "hof_df.head()"
   ]
  },
  {
   "cell_type": "code",
   "execution_count": null,
   "metadata": {},
   "outputs": [],
   "source": [
    "# now that we have data on HOF players, we can build a model for what stats get a player into the HOF\n",
    "# we can use this model on active players, and then calculate probabilities for their chances of getting into the HOF\n",
    "\n",
    "# other things to do: \n",
    "# 1. explore other variables (i.e. make plots) to study what sets a HOF player apart from a non-HOF player\n",
    "# 2. find the least impactful metrics -- what's the worst a player could do and still have a better than 1/2 chance at the HOF?"
   ]
  }
 ]
}